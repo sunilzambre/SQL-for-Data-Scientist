{
 "cells": [
  {
   "cell_type": "code",
   "execution_count": 1,
   "id": "900b7b82",
   "metadata": {},
   "outputs": [
    {
     "name": "stdout",
     "output_type": "stream",
     "text": [
      "Requirement already satisfied: ipython-sql in c:\\users\\admin\\anaconda3\\lib\\site-packages (0.5.0)\n",
      "Requirement already satisfied: prettytable in c:\\users\\admin\\anaconda3\\lib\\site-packages (from ipython-sql) (3.6.0)\n",
      "Requirement already satisfied: six in c:\\users\\admin\\anaconda3\\lib\\site-packages (from ipython-sql) (1.16.0)\n",
      "Requirement already satisfied: sqlparse in c:\\users\\admin\\anaconda3\\lib\\site-packages (from ipython-sql) (0.4.3)\n",
      "Requirement already satisfied: ipython in c:\\users\\admin\\anaconda3\\lib\\site-packages (from ipython-sql) (8.2.0)\n",
      "Requirement already satisfied: ipython-genutils in c:\\users\\admin\\anaconda3\\lib\\site-packages (from ipython-sql) (0.2.0)\n",
      "Requirement already satisfied: sqlalchemy>=2.0 in c:\\users\\admin\\anaconda3\\lib\\site-packages (from ipython-sql) (2.0.8)\n",
      "Requirement already satisfied: typing-extensions>=4.2.0 in c:\\users\\admin\\anaconda3\\lib\\site-packages (from sqlalchemy>=2.0->ipython-sql) (4.4.0)\n",
      "Requirement already satisfied: greenlet!=0.4.17 in c:\\users\\admin\\anaconda3\\lib\\site-packages (from sqlalchemy>=2.0->ipython-sql) (1.1.1)\n",
      "Requirement already satisfied: jedi>=0.16 in c:\\users\\admin\\anaconda3\\lib\\site-packages (from ipython->ipython-sql) (0.18.1)\n",
      "Requirement already satisfied: colorama in c:\\users\\admin\\anaconda3\\lib\\site-packages (from ipython->ipython-sql) (0.4.6)\n",
      "Requirement already satisfied: matplotlib-inline in c:\\users\\admin\\anaconda3\\lib\\site-packages (from ipython->ipython-sql) (0.1.2)\n",
      "Requirement already satisfied: pygments>=2.4.0 in c:\\users\\admin\\anaconda3\\lib\\site-packages (from ipython->ipython-sql) (2.11.2)\n",
      "Requirement already satisfied: setuptools>=18.5 in c:\\users\\admin\\anaconda3\\lib\\site-packages (from ipython->ipython-sql) (61.2.0)\n",
      "Requirement already satisfied: backcall in c:\\users\\admin\\anaconda3\\lib\\site-packages (from ipython->ipython-sql) (0.2.0)\n",
      "Requirement already satisfied: pickleshare in c:\\users\\admin\\anaconda3\\lib\\site-packages (from ipython->ipython-sql) (0.7.5)\n",
      "Requirement already satisfied: decorator in c:\\users\\admin\\anaconda3\\lib\\site-packages (from ipython->ipython-sql) (5.1.1)\n",
      "Requirement already satisfied: traitlets>=5 in c:\\users\\admin\\anaconda3\\lib\\site-packages (from ipython->ipython-sql) (5.9.0)\n",
      "Requirement already satisfied: prompt-toolkit!=3.0.0,!=3.0.1,<3.1.0,>=2.0.0 in c:\\users\\admin\\anaconda3\\lib\\site-packages (from ipython->ipython-sql) (3.0.20)\n",
      "Requirement already satisfied: stack-data in c:\\users\\admin\\anaconda3\\lib\\site-packages (from ipython->ipython-sql) (0.2.0)\n",
      "Requirement already satisfied: parso<0.9.0,>=0.8.0 in c:\\users\\admin\\anaconda3\\lib\\site-packages (from jedi>=0.16->ipython->ipython-sql) (0.8.3)\n",
      "Requirement already satisfied: wcwidth in c:\\users\\admin\\anaconda3\\lib\\site-packages (from prompt-toolkit!=3.0.0,!=3.0.1,<3.1.0,>=2.0.0->ipython->ipython-sql) (0.2.5)\n",
      "Requirement already satisfied: executing in c:\\users\\admin\\anaconda3\\lib\\site-packages (from stack-data->ipython->ipython-sql) (0.8.3)\n",
      "Requirement already satisfied: asttokens in c:\\users\\admin\\anaconda3\\lib\\site-packages (from stack-data->ipython->ipython-sql) (2.0.5)\n",
      "Requirement already satisfied: pure-eval in c:\\users\\admin\\anaconda3\\lib\\site-packages (from stack-data->ipython->ipython-sql) (0.2.2)\n"
     ]
    }
   ],
   "source": [
    "!pip install ipython-sql"
   ]
  },
  {
   "cell_type": "code",
   "execution_count": 2,
   "id": "fc7874de",
   "metadata": {},
   "outputs": [],
   "source": [
    "%load_ext sql"
   ]
  },
  {
   "cell_type": "code",
   "execution_count": 3,
   "id": "35ec60cc",
   "metadata": {},
   "outputs": [],
   "source": [
    "%sql sqlite:///database.db"
   ]
  },
  {
   "cell_type": "code",
   "execution_count": 4,
   "id": "5c762c37",
   "metadata": {},
   "outputs": [
    {
     "name": "stdout",
     "output_type": "stream",
     "text": [
      " * sqlite:///database.db\n",
      "(sqlite3.OperationalError) table employees already exists\n",
      "[SQL: CREATE TABLE employees (\n",
      "    id INTEGER PRIMARY KEY,\n",
      "    name TEXT,\n",
      "    department TEXT\n",
      ");]\n",
      "(Background on this error at: https://sqlalche.me/e/20/e3q8)\n"
     ]
    }
   ],
   "source": [
    "%%sql\n",
    "CREATE TABLE employees (\n",
    "    id INTEGER PRIMARY KEY,\n",
    "    name TEXT,\n",
    "    department TEXT\n",
    ");\n"
   ]
  },
  {
   "cell_type": "code",
   "execution_count": 5,
   "id": "28796341",
   "metadata": {},
   "outputs": [
    {
     "name": "stdout",
     "output_type": "stream",
     "text": [
      " * sqlite:///database.db\n",
      "(sqlite3.IntegrityError) UNIQUE constraint failed: employees.id\n",
      "[SQL: INSERT INTO employees (id, name, department) VALUES\n",
      "(1, 'John Doe', 'Sales'),\n",
      "(2, 'Jane Smith', 'Marketing'),\n",
      "(3, 'Bob Johnson', 'Finance');]\n",
      "(Background on this error at: https://sqlalche.me/e/20/gkpj)\n"
     ]
    }
   ],
   "source": [
    "%%sql\n",
    "INSERT INTO employees (id, name, department) VALUES\n",
    "(1, 'John Doe', 'Sales'),\n",
    "(2, 'Jane Smith', 'Marketing'),\n",
    "(3, 'Bob Johnson', 'Finance');"
   ]
  },
  {
   "cell_type": "code",
   "execution_count": 6,
   "id": "0ea00c33",
   "metadata": {},
   "outputs": [
    {
     "name": "stdout",
     "output_type": "stream",
     "text": [
      " * sqlite:///database.db\n",
      "Done.\n"
     ]
    },
    {
     "data": {
      "text/html": [
       "<table>\n",
       "    <thead>\n",
       "        <tr>\n",
       "            <th>id</th>\n",
       "            <th>name</th>\n",
       "            <th>department</th>\n",
       "        </tr>\n",
       "    </thead>\n",
       "    <tbody>\n",
       "        <tr>\n",
       "            <td>1</td>\n",
       "            <td>John Doe</td>\n",
       "            <td>Sales</td>\n",
       "        </tr>\n",
       "        <tr>\n",
       "            <td>2</td>\n",
       "            <td>Jane Smith</td>\n",
       "            <td>Marketing</td>\n",
       "        </tr>\n",
       "        <tr>\n",
       "            <td>3</td>\n",
       "            <td>Bob Johnson</td>\n",
       "            <td>Finance</td>\n",
       "        </tr>\n",
       "    </tbody>\n",
       "</table>"
      ],
      "text/plain": [
       "[(1, 'John Doe', 'Sales'),\n",
       " (2, 'Jane Smith', 'Marketing'),\n",
       " (3, 'Bob Johnson', 'Finance')]"
      ]
     },
     "execution_count": 6,
     "metadata": {},
     "output_type": "execute_result"
    }
   ],
   "source": [
    "%%sql\n",
    "SELECT * FROM employees;"
   ]
  },
  {
   "cell_type": "code",
   "execution_count": 7,
   "id": "df36253a",
   "metadata": {},
   "outputs": [
    {
     "name": "stdout",
     "output_type": "stream",
     "text": [
      " * sqlite:///database.db\n",
      "(sqlite3.OperationalError) table students already exists\n",
      "[SQL: CREATE TABLE students(\n",
      "    rno INT PRIMARY KEY,\n",
      "    sname TEXT,\n",
      "    department TEXT\n",
      "    );]\n",
      "(Background on this error at: https://sqlalche.me/e/20/e3q8)\n"
     ]
    }
   ],
   "source": [
    "%%sql \n",
    "CREATE TABLE students(\n",
    "    rno INT PRIMARY KEY,\n",
    "    sname TEXT,\n",
    "    department TEXT\n",
    "    );"
   ]
  },
  {
   "cell_type": "code",
   "execution_count": 8,
   "id": "272d0007",
   "metadata": {},
   "outputs": [
    {
     "name": "stdout",
     "output_type": "stream",
     "text": [
      " * sqlite:///database.db\n",
      "(sqlite3.IntegrityError) UNIQUE constraint failed: students.rno\n",
      "[SQL: INSERT INTO students(rno,sname,department) VALUES\n",
      "(1,'Rahul Raut','Mechanical'),\n",
      "(2,'Santosh Bhosale','Computer'),\n",
      "(3,'Sunil Zambre','IT'),\n",
      "(4,'Anil Kumbhar','Admin');]\n",
      "(Background on this error at: https://sqlalche.me/e/20/gkpj)\n"
     ]
    }
   ],
   "source": [
    "%%sql\n",
    "INSERT INTO students(rno,sname,department) VALUES\n",
    "(1,'Rahul Raut','Mechanical'),\n",
    "(2,'Santosh Bhosale','Computer'),\n",
    "(3,'Sunil Zambre','IT'),\n",
    "(4,'Anil Kumbhar','Admin');"
   ]
  },
  {
   "cell_type": "code",
   "execution_count": 9,
   "id": "36e427cd",
   "metadata": {},
   "outputs": [
    {
     "name": "stdout",
     "output_type": "stream",
     "text": [
      " * sqlite:///database.db\n",
      "Done.\n"
     ]
    },
    {
     "data": {
      "text/html": [
       "<table>\n",
       "    <thead>\n",
       "        <tr>\n",
       "            <th>rno</th>\n",
       "            <th>sname</th>\n",
       "            <th>department</th>\n",
       "        </tr>\n",
       "    </thead>\n",
       "    <tbody>\n",
       "        <tr>\n",
       "            <td>1</td>\n",
       "            <td>Rahul Raut</td>\n",
       "            <td>Mechanical</td>\n",
       "        </tr>\n",
       "        <tr>\n",
       "            <td>2</td>\n",
       "            <td>Santosh Bhosale</td>\n",
       "            <td>Computer</td>\n",
       "        </tr>\n",
       "        <tr>\n",
       "            <td>3</td>\n",
       "            <td>Sunil Zambre</td>\n",
       "            <td>IT</td>\n",
       "        </tr>\n",
       "        <tr>\n",
       "            <td>4</td>\n",
       "            <td>Anil Kumbhar</td>\n",
       "            <td>Admin</td>\n",
       "        </tr>\n",
       "    </tbody>\n",
       "</table>"
      ],
      "text/plain": [
       "[(1, 'Rahul Raut', 'Mechanical'),\n",
       " (2, 'Santosh Bhosale', 'Computer'),\n",
       " (3, 'Sunil Zambre', 'IT'),\n",
       " (4, 'Anil Kumbhar', 'Admin')]"
      ]
     },
     "execution_count": 9,
     "metadata": {},
     "output_type": "execute_result"
    }
   ],
   "source": [
    "%%sql\n",
    "SELECT * FROM students;"
   ]
  },
  {
   "cell_type": "code",
   "execution_count": 10,
   "id": "05bd8804",
   "metadata": {},
   "outputs": [
    {
     "name": "stdout",
     "output_type": "stream",
     "text": [
      " * sqlite:///database.db\n",
      "Done.\n"
     ]
    },
    {
     "data": {
      "text/plain": [
       "[]"
      ]
     },
     "execution_count": 10,
     "metadata": {},
     "output_type": "execute_result"
    }
   ],
   "source": [
    "%%sql\n",
    "ALTER TABLE students\n",
    "ADD COLUMN mobile_no INTEGER;"
   ]
  },
  {
   "cell_type": "code",
   "execution_count": 11,
   "id": "70aa524b",
   "metadata": {},
   "outputs": [
    {
     "name": "stdout",
     "output_type": "stream",
     "text": [
      " * sqlite:///database.db\n",
      "4 rows affected.\n"
     ]
    },
    {
     "data": {
      "text/plain": [
       "[]"
      ]
     },
     "execution_count": 11,
     "metadata": {},
     "output_type": "execute_result"
    }
   ],
   "source": [
    "%%sql\n",
    "UPDATE students\n",
    "SET mobile_no =6789909009;"
   ]
  },
  {
   "cell_type": "code",
   "execution_count": 12,
   "id": "92bd88c7",
   "metadata": {},
   "outputs": [
    {
     "name": "stdout",
     "output_type": "stream",
     "text": [
      " * sqlite:///database.db\n",
      "Done.\n"
     ]
    },
    {
     "data": {
      "text/html": [
       "<table>\n",
       "    <thead>\n",
       "        <tr>\n",
       "            <th>rno</th>\n",
       "            <th>sname</th>\n",
       "            <th>department</th>\n",
       "            <th>mobile_no</th>\n",
       "        </tr>\n",
       "    </thead>\n",
       "    <tbody>\n",
       "        <tr>\n",
       "            <td>1</td>\n",
       "            <td>Rahul Raut</td>\n",
       "            <td>Mechanical</td>\n",
       "            <td>6789909009</td>\n",
       "        </tr>\n",
       "        <tr>\n",
       "            <td>2</td>\n",
       "            <td>Santosh Bhosale</td>\n",
       "            <td>Computer</td>\n",
       "            <td>6789909009</td>\n",
       "        </tr>\n",
       "        <tr>\n",
       "            <td>3</td>\n",
       "            <td>Sunil Zambre</td>\n",
       "            <td>IT</td>\n",
       "            <td>6789909009</td>\n",
       "        </tr>\n",
       "        <tr>\n",
       "            <td>4</td>\n",
       "            <td>Anil Kumbhar</td>\n",
       "            <td>Admin</td>\n",
       "            <td>6789909009</td>\n",
       "        </tr>\n",
       "    </tbody>\n",
       "</table>"
      ],
      "text/plain": [
       "[(1, 'Rahul Raut', 'Mechanical', 6789909009),\n",
       " (2, 'Santosh Bhosale', 'Computer', 6789909009),\n",
       " (3, 'Sunil Zambre', 'IT', 6789909009),\n",
       " (4, 'Anil Kumbhar', 'Admin', 6789909009)]"
      ]
     },
     "execution_count": 12,
     "metadata": {},
     "output_type": "execute_result"
    }
   ],
   "source": [
    "%%sql\n",
    "SELECT * FROM students;"
   ]
  },
  {
   "cell_type": "code",
   "execution_count": 13,
   "id": "3b989987",
   "metadata": {},
   "outputs": [
    {
     "name": "stdout",
     "output_type": "stream",
     "text": [
      " * sqlite:///database.db\n",
      "Done.\n"
     ]
    },
    {
     "data": {
      "text/html": [
       "<table>\n",
       "    <thead>\n",
       "        <tr>\n",
       "            <th>rno</th>\n",
       "            <th>sname</th>\n",
       "            <th>department</th>\n",
       "            <th>mobile_no</th>\n",
       "        </tr>\n",
       "    </thead>\n",
       "    <tbody>\n",
       "        <tr>\n",
       "            <td>1</td>\n",
       "            <td>Rahul Raut</td>\n",
       "            <td>Mechanical</td>\n",
       "            <td>6789909009</td>\n",
       "        </tr>\n",
       "        <tr>\n",
       "            <td>2</td>\n",
       "            <td>Santosh Bhosale</td>\n",
       "            <td>Computer</td>\n",
       "            <td>6789909009</td>\n",
       "        </tr>\n",
       "    </tbody>\n",
       "</table>"
      ],
      "text/plain": [
       "[(1, 'Rahul Raut', 'Mechanical', 6789909009),\n",
       " (2, 'Santosh Bhosale', 'Computer', 6789909009)]"
      ]
     },
     "execution_count": 13,
     "metadata": {},
     "output_type": "execute_result"
    }
   ],
   "source": [
    "%%sql\n",
    "SELECT * FROM students LIMIT 2;"
   ]
  },
  {
   "cell_type": "code",
   "execution_count": 16,
   "id": "6fcdad30",
   "metadata": {},
   "outputs": [
    {
     "name": "stdout",
     "output_type": "stream",
     "text": [
      " * sqlite:///database.db\n",
      "Done.\n"
     ]
    },
    {
     "data": {
      "text/html": [
       "<table>\n",
       "    <thead>\n",
       "        <tr>\n",
       "            <th>rno</th>\n",
       "            <th>sname</th>\n",
       "            <th>department</th>\n",
       "            <th>mobile_no</th>\n",
       "        </tr>\n",
       "    </thead>\n",
       "    <tbody>\n",
       "        <tr>\n",
       "            <td>4</td>\n",
       "            <td>Anil Kumbhar</td>\n",
       "            <td>Admin</td>\n",
       "            <td>6789909009</td>\n",
       "        </tr>\n",
       "        <tr>\n",
       "            <td>3</td>\n",
       "            <td>Sunil Zambre</td>\n",
       "            <td>IT</td>\n",
       "            <td>6789909009</td>\n",
       "        </tr>\n",
       "    </tbody>\n",
       "</table>"
      ],
      "text/plain": [
       "[(4, 'Anil Kumbhar', 'Admin', 6789909009),\n",
       " (3, 'Sunil Zambre', 'IT', 6789909009)]"
      ]
     },
     "execution_count": 16,
     "metadata": {},
     "output_type": "execute_result"
    }
   ],
   "source": [
    "%%sql\n",
    "SELECT * FROM students ORDER BY rno DESC LIMIT 2;"
   ]
  },
  {
   "cell_type": "code",
   "execution_count": 18,
   "id": "74506f8f",
   "metadata": {},
   "outputs": [
    {
     "name": "stdout",
     "output_type": "stream",
     "text": [
      " * sqlite:///database.db\n",
      "(sqlite3.OperationalError) near \"#connecting\": syntax error\n",
      "[SQL: #connecting and creating with the database.\n",
      "db = sqlite3.connect(\"testing.db\")\n",
      "db.execute(\"drop table if exists results\")]\n",
      "(Background on this error at: https://sqlalche.me/e/20/e3q8)\n"
     ]
    }
   ],
   "source": [
    "%%sql\n",
    "#connecting and creating with the database.\n",
    "db = sqlite3.connect(\"testing.db\")\n",
    "db.execute(\"drop table if exists results\")"
   ]
  },
  {
   "cell_type": "code",
   "execution_count": 19,
   "id": "0f2cbf38",
   "metadata": {},
   "outputs": [
    {
     "ename": "NameError",
     "evalue": "name 'sqlite3' is not defined",
     "output_type": "error",
     "traceback": [
      "\u001b[1;31m---------------------------------------------------------------------------\u001b[0m",
      "\u001b[1;31mNameError\u001b[0m                                 Traceback (most recent call last)",
      "Input \u001b[1;32mIn [19]\u001b[0m, in \u001b[0;36m<cell line: 2>\u001b[1;34m()\u001b[0m\n\u001b[0;32m      1\u001b[0m \u001b[38;5;66;03m#connecting to and creating the database\u001b[39;00m\n\u001b[1;32m----> 2\u001b[0m db \u001b[38;5;241m=\u001b[39m \u001b[43msqlite3\u001b[49m\u001b[38;5;241m.\u001b[39mconnect(\u001b[38;5;124m\"\u001b[39m\u001b[38;5;124mtesting.db\u001b[39m\u001b[38;5;124m\"\u001b[39m)\n\u001b[0;32m      4\u001b[0m \u001b[38;5;66;03m#drop the table if it exists\u001b[39;00m\n\u001b[0;32m      5\u001b[0m db\u001b[38;5;241m.\u001b[39mexecute(\u001b[38;5;124m\"\u001b[39m\u001b[38;5;124mDROP TABLE IF EXISTS results\u001b[39m\u001b[38;5;124m\"\u001b[39m)\n",
      "\u001b[1;31mNameError\u001b[0m: name 'sqlite3' is not defined"
     ]
    }
   ],
   "source": [
    "#connecting to and creating the database\n",
    "db = sqlite3.connect(\"testing.db\")\n",
    "\n",
    "#drop the table if it exists\n",
    "db.execute(\"DROP TABLE IF EXISTS results\")\n",
    "\n",
    "#add your other SQL statements here, each in its own call to db.execute()\n"
   ]
  },
  {
   "cell_type": "code",
   "execution_count": 20,
   "id": "50cb53de",
   "metadata": {},
   "outputs": [
    {
     "name": "stdout",
     "output_type": "stream",
     "text": [
      " * sqlite:///database.db\n",
      "(sqlite3.OperationalError) near \"testing\": syntax error\n",
      "[SQL: testing.db]\n",
      "(Background on this error at: https://sqlalche.me/e/20/e3q8)\n"
     ]
    }
   ],
   "source": [
    "%%sql\n",
    "testing.db"
   ]
  },
  {
   "cell_type": "code",
   "execution_count": 21,
   "id": "76c69bdf",
   "metadata": {},
   "outputs": [
    {
     "name": "stdout",
     "output_type": "stream",
     "text": [
      " * sqlite:///database.db\n",
      "Done.\n"
     ]
    },
    {
     "data": {
      "text/plain": [
       "[]"
      ]
     },
     "execution_count": 21,
     "metadata": {},
     "output_type": "execute_result"
    }
   ],
   "source": [
    "%%sql\n",
    "CREATE TABLE products (\n",
    "  id INT PRIMARY KEY,\n",
    "  name VARCHAR(255),\n",
    "  price DECIMAL(10,2)\n",
    ");\n"
   ]
  },
  {
   "cell_type": "code",
   "execution_count": 22,
   "id": "2d2c3910",
   "metadata": {},
   "outputs": [
    {
     "name": "stdout",
     "output_type": "stream",
     "text": [
      " * sqlite:///database.db\n",
      "3 rows affected.\n"
     ]
    },
    {
     "data": {
      "text/plain": [
       "[]"
      ]
     },
     "execution_count": 22,
     "metadata": {},
     "output_type": "execute_result"
    }
   ],
   "source": [
    "%%sql\n",
    "INSERT INTO products (id, name, price)\n",
    "VALUES (1, 'Rice', 45),(2,'Sugar',34),(3,'Pulse',40);"
   ]
  },
  {
   "cell_type": "code",
   "execution_count": 23,
   "id": "449c7105",
   "metadata": {},
   "outputs": [
    {
     "name": "stdout",
     "output_type": "stream",
     "text": [
      " * sqlite:///database.db\n",
      "Done.\n"
     ]
    },
    {
     "data": {
      "text/html": [
       "<table>\n",
       "    <thead>\n",
       "        <tr>\n",
       "            <th>id</th>\n",
       "            <th>name</th>\n",
       "            <th>price</th>\n",
       "        </tr>\n",
       "    </thead>\n",
       "    <tbody>\n",
       "        <tr>\n",
       "            <td>1</td>\n",
       "            <td>Rice</td>\n",
       "            <td>45</td>\n",
       "        </tr>\n",
       "        <tr>\n",
       "            <td>2</td>\n",
       "            <td>Sugar</td>\n",
       "            <td>34</td>\n",
       "        </tr>\n",
       "        <tr>\n",
       "            <td>3</td>\n",
       "            <td>Pulse</td>\n",
       "            <td>40</td>\n",
       "        </tr>\n",
       "    </tbody>\n",
       "</table>"
      ],
      "text/plain": [
       "[(1, 'Rice', 45), (2, 'Sugar', 34), (3, 'Pulse', 40)]"
      ]
     },
     "execution_count": 23,
     "metadata": {},
     "output_type": "execute_result"
    }
   ],
   "source": [
    "%%sql\n",
    "SELECT * FROM products"
   ]
  },
  {
   "cell_type": "code",
   "execution_count": 24,
   "id": "1faa7739",
   "metadata": {},
   "outputs": [
    {
     "name": "stdout",
     "output_type": "stream",
     "text": [
      " * sqlite:///database.db\n",
      "1 rows affected.\n"
     ]
    },
    {
     "data": {
      "text/plain": [
       "[]"
      ]
     },
     "execution_count": 24,
     "metadata": {},
     "output_type": "execute_result"
    }
   ],
   "source": [
    "%%sql\n",
    "UPDATE products\n",
    "SET name = 'Sugar', price = 50\n",
    "WHERE id = 2;\n"
   ]
  },
  {
   "cell_type": "code",
   "execution_count": 25,
   "id": "8ce48489",
   "metadata": {},
   "outputs": [
    {
     "name": "stdout",
     "output_type": "stream",
     "text": [
      " * sqlite:///database.db\n",
      "Done.\n"
     ]
    },
    {
     "data": {
      "text/html": [
       "<table>\n",
       "    <thead>\n",
       "        <tr>\n",
       "            <th>id</th>\n",
       "            <th>name</th>\n",
       "            <th>price</th>\n",
       "        </tr>\n",
       "    </thead>\n",
       "    <tbody>\n",
       "        <tr>\n",
       "            <td>1</td>\n",
       "            <td>Rice</td>\n",
       "            <td>45</td>\n",
       "        </tr>\n",
       "        <tr>\n",
       "            <td>2</td>\n",
       "            <td>Sugar</td>\n",
       "            <td>50</td>\n",
       "        </tr>\n",
       "        <tr>\n",
       "            <td>3</td>\n",
       "            <td>Pulse</td>\n",
       "            <td>40</td>\n",
       "        </tr>\n",
       "    </tbody>\n",
       "</table>"
      ],
      "text/plain": [
       "[(1, 'Rice', 45), (2, 'Sugar', 50), (3, 'Pulse', 40)]"
      ]
     },
     "execution_count": 25,
     "metadata": {},
     "output_type": "execute_result"
    }
   ],
   "source": [
    "%%sql\n",
    "SELECT * FROM products"
   ]
  },
  {
   "cell_type": "code",
   "execution_count": 26,
   "id": "7c314823",
   "metadata": {},
   "outputs": [
    {
     "name": "stdout",
     "output_type": "stream",
     "text": [
      " * sqlite:///database.db\n",
      "Done.\n"
     ]
    },
    {
     "data": {
      "text/plain": [
       "[]"
      ]
     },
     "execution_count": 26,
     "metadata": {},
     "output_type": "execute_result"
    }
   ],
   "source": [
    "%%sql\n",
    "\n",
    "CREATE TABLE patient (\n",
    "    patient_id INT PRIMARY KEY,\n",
    "    first_name VARCHAR(50) NOT NULL,\n",
    "    last_name VARCHAR(50) NOT NULL,\n",
    "    gender VARCHAR(10) NOT NULL,\n",
    "    city VARCHAR(50) NOT NULL,\n",
    "    height DECIMAL(5,2),\n",
    "    allergies VARCHAR(100),\n",
    "    doctor_name VARCHAR(100) NOT NULL,\n",
    "    address VARCHAR(200) NOT NULL\n",
    ");\n"
   ]
  },
  {
   "cell_type": "code",
   "execution_count": 27,
   "id": "bf12d2ae",
   "metadata": {},
   "outputs": [
    {
     "name": "stdout",
     "output_type": "stream",
     "text": [
      " * sqlite:///database.db\n",
      "10 rows affected.\n"
     ]
    },
    {
     "data": {
      "text/plain": [
       "[]"
      ]
     },
     "execution_count": 27,
     "metadata": {},
     "output_type": "execute_result"
    }
   ],
   "source": [
    "%%sql\n",
    "INSERT INTO patient (patient_id, first_name, last_name, gender, city, height, allergies, doctor_name, address)\n",
    "VALUES \n",
    "(1, 'John', 'Doe', 'Male', 'New York', 6.1, 'Pollen', 'Dr. Smith', '123 Main St.'),\n",
    "(2, 'Jane', 'Doe', 'Female', 'Chicago', 5.5, 'Penicillin', 'Dr. Johnson', '456 Maple Ave.'),\n",
    "(3, 'Mike', 'Smith', 'Male', 'Los Angeles', 6.2, 'Dust', 'Dr. Lee', '789 Oak St.'),\n",
    "(4, 'Sarah', 'Lee', 'Female', 'San Francisco', 5.8, NULL, 'Dr. Davis', '1010 Elm St.'),\n",
    "(5, 'Robert', 'Jones', 'Male', 'Houston', 6.0, 'Seafood', 'Dr. Brown', '1111 Walnut St.'),\n",
    "(6, 'Mary', 'Wilson', 'Female', 'Philadelphia', 5.4, NULL, 'Dr. Taylor', '2222 Cedar St.'),\n",
    "(7, 'David', 'Clark', 'Male', 'Phoenix', 6.3, 'Peanuts', 'Dr. Hernandez', '3333 Birch St.'),\n",
    "(8, 'Lisa', 'Garcia', 'Female', 'Miami', 5.7, 'Latex', 'Dr. Patel', '4444 Pine St.'),\n",
    "(9, 'Chris', 'Robinson', 'Male', 'Dallas', 6.1, NULL, 'Dr. Williams', '5555 Ash St.'),\n",
    "(10, 'Amanda', 'Hall', 'Female', 'Atlanta', 5.6, 'Eggs', 'Dr. Garcia', '6666 Oak St.');\n"
   ]
  },
  {
   "cell_type": "code",
   "execution_count": 28,
   "id": "00502eac",
   "metadata": {},
   "outputs": [
    {
     "name": "stdout",
     "output_type": "stream",
     "text": [
      " * sqlite:///database.db\n",
      "Done.\n"
     ]
    },
    {
     "data": {
      "text/html": [
       "<table>\n",
       "    <thead>\n",
       "        <tr>\n",
       "            <th>patient_id</th>\n",
       "            <th>first_name</th>\n",
       "            <th>last_name</th>\n",
       "            <th>gender</th>\n",
       "            <th>city</th>\n",
       "            <th>height</th>\n",
       "            <th>allergies</th>\n",
       "            <th>doctor_name</th>\n",
       "            <th>address</th>\n",
       "        </tr>\n",
       "    </thead>\n",
       "    <tbody>\n",
       "        <tr>\n",
       "            <td>1</td>\n",
       "            <td>John</td>\n",
       "            <td>Doe</td>\n",
       "            <td>Male</td>\n",
       "            <td>New York</td>\n",
       "            <td>6.1</td>\n",
       "            <td>Pollen</td>\n",
       "            <td>Dr. Smith</td>\n",
       "            <td>123 Main St.</td>\n",
       "        </tr>\n",
       "        <tr>\n",
       "            <td>2</td>\n",
       "            <td>Jane</td>\n",
       "            <td>Doe</td>\n",
       "            <td>Female</td>\n",
       "            <td>Chicago</td>\n",
       "            <td>5.5</td>\n",
       "            <td>Penicillin</td>\n",
       "            <td>Dr. Johnson</td>\n",
       "            <td>456 Maple Ave.</td>\n",
       "        </tr>\n",
       "        <tr>\n",
       "            <td>3</td>\n",
       "            <td>Mike</td>\n",
       "            <td>Smith</td>\n",
       "            <td>Male</td>\n",
       "            <td>Los Angeles</td>\n",
       "            <td>6.2</td>\n",
       "            <td>Dust</td>\n",
       "            <td>Dr. Lee</td>\n",
       "            <td>789 Oak St.</td>\n",
       "        </tr>\n",
       "        <tr>\n",
       "            <td>4</td>\n",
       "            <td>Sarah</td>\n",
       "            <td>Lee</td>\n",
       "            <td>Female</td>\n",
       "            <td>San Francisco</td>\n",
       "            <td>5.8</td>\n",
       "            <td>None</td>\n",
       "            <td>Dr. Davis</td>\n",
       "            <td>1010 Elm St.</td>\n",
       "        </tr>\n",
       "        <tr>\n",
       "            <td>5</td>\n",
       "            <td>Robert</td>\n",
       "            <td>Jones</td>\n",
       "            <td>Male</td>\n",
       "            <td>Houston</td>\n",
       "            <td>6</td>\n",
       "            <td>Seafood</td>\n",
       "            <td>Dr. Brown</td>\n",
       "            <td>1111 Walnut St.</td>\n",
       "        </tr>\n",
       "        <tr>\n",
       "            <td>6</td>\n",
       "            <td>Mary</td>\n",
       "            <td>Wilson</td>\n",
       "            <td>Female</td>\n",
       "            <td>Philadelphia</td>\n",
       "            <td>5.4</td>\n",
       "            <td>None</td>\n",
       "            <td>Dr. Taylor</td>\n",
       "            <td>2222 Cedar St.</td>\n",
       "        </tr>\n",
       "        <tr>\n",
       "            <td>7</td>\n",
       "            <td>David</td>\n",
       "            <td>Clark</td>\n",
       "            <td>Male</td>\n",
       "            <td>Phoenix</td>\n",
       "            <td>6.3</td>\n",
       "            <td>Peanuts</td>\n",
       "            <td>Dr. Hernandez</td>\n",
       "            <td>3333 Birch St.</td>\n",
       "        </tr>\n",
       "        <tr>\n",
       "            <td>8</td>\n",
       "            <td>Lisa</td>\n",
       "            <td>Garcia</td>\n",
       "            <td>Female</td>\n",
       "            <td>Miami</td>\n",
       "            <td>5.7</td>\n",
       "            <td>Latex</td>\n",
       "            <td>Dr. Patel</td>\n",
       "            <td>4444 Pine St.</td>\n",
       "        </tr>\n",
       "        <tr>\n",
       "            <td>9</td>\n",
       "            <td>Chris</td>\n",
       "            <td>Robinson</td>\n",
       "            <td>Male</td>\n",
       "            <td>Dallas</td>\n",
       "            <td>6.1</td>\n",
       "            <td>None</td>\n",
       "            <td>Dr. Williams</td>\n",
       "            <td>5555 Ash St.</td>\n",
       "        </tr>\n",
       "        <tr>\n",
       "            <td>10</td>\n",
       "            <td>Amanda</td>\n",
       "            <td>Hall</td>\n",
       "            <td>Female</td>\n",
       "            <td>Atlanta</td>\n",
       "            <td>5.6</td>\n",
       "            <td>Eggs</td>\n",
       "            <td>Dr. Garcia</td>\n",
       "            <td>6666 Oak St.</td>\n",
       "        </tr>\n",
       "    </tbody>\n",
       "</table>"
      ],
      "text/plain": [
       "[(1, 'John', 'Doe', 'Male', 'New York', 6.1, 'Pollen', 'Dr. Smith', '123 Main St.'),\n",
       " (2, 'Jane', 'Doe', 'Female', 'Chicago', 5.5, 'Penicillin', 'Dr. Johnson', '456 Maple Ave.'),\n",
       " (3, 'Mike', 'Smith', 'Male', 'Los Angeles', 6.2, 'Dust', 'Dr. Lee', '789 Oak St.'),\n",
       " (4, 'Sarah', 'Lee', 'Female', 'San Francisco', 5.8, None, 'Dr. Davis', '1010 Elm St.'),\n",
       " (5, 'Robert', 'Jones', 'Male', 'Houston', 6, 'Seafood', 'Dr. Brown', '1111 Walnut St.'),\n",
       " (6, 'Mary', 'Wilson', 'Female', 'Philadelphia', 5.4, None, 'Dr. Taylor', '2222 Cedar St.'),\n",
       " (7, 'David', 'Clark', 'Male', 'Phoenix', 6.3, 'Peanuts', 'Dr. Hernandez', '3333 Birch St.'),\n",
       " (8, 'Lisa', 'Garcia', 'Female', 'Miami', 5.7, 'Latex', 'Dr. Patel', '4444 Pine St.'),\n",
       " (9, 'Chris', 'Robinson', 'Male', 'Dallas', 6.1, None, 'Dr. Williams', '5555 Ash St.'),\n",
       " (10, 'Amanda', 'Hall', 'Female', 'Atlanta', 5.6, 'Eggs', 'Dr. Garcia', '6666 Oak St.')]"
      ]
     },
     "execution_count": 28,
     "metadata": {},
     "output_type": "execute_result"
    }
   ],
   "source": [
    "%%sql \n",
    "SELECT * FROM patient;"
   ]
  },
  {
   "cell_type": "code",
   "execution_count": 29,
   "id": "f99e6501",
   "metadata": {},
   "outputs": [
    {
     "name": "stdout",
     "output_type": "stream",
     "text": [
      " * sqlite:///database.db\n",
      "10 rows affected.\n"
     ]
    },
    {
     "data": {
      "text/plain": [
       "[]"
      ]
     },
     "execution_count": 29,
     "metadata": {},
     "output_type": "execute_result"
    }
   ],
   "source": [
    "%%sql\n",
    "INSERT INTO patient (patient_id, first_name, last_name, gender, city, height, allergies, doctor_name, address)\n",
    "VALUES\n",
    "(11, 'Kevin', 'Nguyen', 'Male', 'Seattle', 5.9, 'Pollen', 'Dr. Chen', '7777 Cedar St.'),\n",
    "(12, 'Rachel', 'Kim', 'Female', 'Boston', 5.2, 'Peanuts', 'Dr. Kim', '8888 Pine St.'),\n",
    "(13, 'Timothy', 'Gomez', 'Male', 'San Diego', 6.0, 'Dust', 'Dr. Lee', '9999 Oak St.'),\n",
    "(14, 'Samantha', 'Chen', 'Female', 'Denver', 5.4, NULL, 'Dr. Lee', '1010 Spruce St.'),\n",
    "(15, 'Joshua', 'Wong', 'Male', 'Las Vegas', 5.8, 'Seafood', 'Dr. Davis', '1212 Maple Ave.'),\n",
    "(16, 'Emily', 'Wang', 'Female', 'Portland', 5.5, 'Latex', 'Dr. Hernandez', '1313 Elm St.'),\n",
    "(17, 'Daniel', 'Lee', 'Male', 'Austin', 6.1, NULL, 'Dr. Kim', '1414 Oak St.'),\n",
    "(18, 'Stephanie', 'Lin', 'Female', 'Charlotte', 5.7, 'Eggs', 'Dr. Davis', '1515 Walnut St.'),\n",
    "(19, 'Matthew', 'Choi', 'Male', 'Seattle', 6.2, NULL, 'Dr. Hernandez', '1616 Pine St.'),\n",
    "(20, 'Cynthia', 'Park', 'Female', 'Houston', 5.6, 'Latex', 'Dr. Patel', '1717 Cedar St.');\n"
   ]
  },
  {
   "cell_type": "code",
   "execution_count": 30,
   "id": "b4783dcc",
   "metadata": {},
   "outputs": [
    {
     "name": "stdout",
     "output_type": "stream",
     "text": [
      " * sqlite:///database.db\n",
      "Done.\n"
     ]
    },
    {
     "data": {
      "text/html": [
       "<table>\n",
       "    <thead>\n",
       "        <tr>\n",
       "            <th>patient_id</th>\n",
       "            <th>first_name</th>\n",
       "            <th>last_name</th>\n",
       "            <th>gender</th>\n",
       "            <th>city</th>\n",
       "            <th>height</th>\n",
       "            <th>allergies</th>\n",
       "            <th>doctor_name</th>\n",
       "            <th>address</th>\n",
       "        </tr>\n",
       "    </thead>\n",
       "    <tbody>\n",
       "        <tr>\n",
       "            <td>1</td>\n",
       "            <td>John</td>\n",
       "            <td>Doe</td>\n",
       "            <td>Male</td>\n",
       "            <td>New York</td>\n",
       "            <td>6.1</td>\n",
       "            <td>Pollen</td>\n",
       "            <td>Dr. Smith</td>\n",
       "            <td>123 Main St.</td>\n",
       "        </tr>\n",
       "        <tr>\n",
       "            <td>2</td>\n",
       "            <td>Jane</td>\n",
       "            <td>Doe</td>\n",
       "            <td>Female</td>\n",
       "            <td>Chicago</td>\n",
       "            <td>5.5</td>\n",
       "            <td>Penicillin</td>\n",
       "            <td>Dr. Johnson</td>\n",
       "            <td>456 Maple Ave.</td>\n",
       "        </tr>\n",
       "        <tr>\n",
       "            <td>3</td>\n",
       "            <td>Mike</td>\n",
       "            <td>Smith</td>\n",
       "            <td>Male</td>\n",
       "            <td>Los Angeles</td>\n",
       "            <td>6.2</td>\n",
       "            <td>Dust</td>\n",
       "            <td>Dr. Lee</td>\n",
       "            <td>789 Oak St.</td>\n",
       "        </tr>\n",
       "        <tr>\n",
       "            <td>4</td>\n",
       "            <td>Sarah</td>\n",
       "            <td>Lee</td>\n",
       "            <td>Female</td>\n",
       "            <td>San Francisco</td>\n",
       "            <td>5.8</td>\n",
       "            <td>None</td>\n",
       "            <td>Dr. Davis</td>\n",
       "            <td>1010 Elm St.</td>\n",
       "        </tr>\n",
       "        <tr>\n",
       "            <td>5</td>\n",
       "            <td>Robert</td>\n",
       "            <td>Jones</td>\n",
       "            <td>Male</td>\n",
       "            <td>Houston</td>\n",
       "            <td>6</td>\n",
       "            <td>Seafood</td>\n",
       "            <td>Dr. Brown</td>\n",
       "            <td>1111 Walnut St.</td>\n",
       "        </tr>\n",
       "        <tr>\n",
       "            <td>6</td>\n",
       "            <td>Mary</td>\n",
       "            <td>Wilson</td>\n",
       "            <td>Female</td>\n",
       "            <td>Philadelphia</td>\n",
       "            <td>5.4</td>\n",
       "            <td>None</td>\n",
       "            <td>Dr. Taylor</td>\n",
       "            <td>2222 Cedar St.</td>\n",
       "        </tr>\n",
       "        <tr>\n",
       "            <td>7</td>\n",
       "            <td>David</td>\n",
       "            <td>Clark</td>\n",
       "            <td>Male</td>\n",
       "            <td>Phoenix</td>\n",
       "            <td>6.3</td>\n",
       "            <td>Peanuts</td>\n",
       "            <td>Dr. Hernandez</td>\n",
       "            <td>3333 Birch St.</td>\n",
       "        </tr>\n",
       "        <tr>\n",
       "            <td>8</td>\n",
       "            <td>Lisa</td>\n",
       "            <td>Garcia</td>\n",
       "            <td>Female</td>\n",
       "            <td>Miami</td>\n",
       "            <td>5.7</td>\n",
       "            <td>Latex</td>\n",
       "            <td>Dr. Patel</td>\n",
       "            <td>4444 Pine St.</td>\n",
       "        </tr>\n",
       "        <tr>\n",
       "            <td>9</td>\n",
       "            <td>Chris</td>\n",
       "            <td>Robinson</td>\n",
       "            <td>Male</td>\n",
       "            <td>Dallas</td>\n",
       "            <td>6.1</td>\n",
       "            <td>None</td>\n",
       "            <td>Dr. Williams</td>\n",
       "            <td>5555 Ash St.</td>\n",
       "        </tr>\n",
       "        <tr>\n",
       "            <td>10</td>\n",
       "            <td>Amanda</td>\n",
       "            <td>Hall</td>\n",
       "            <td>Female</td>\n",
       "            <td>Atlanta</td>\n",
       "            <td>5.6</td>\n",
       "            <td>Eggs</td>\n",
       "            <td>Dr. Garcia</td>\n",
       "            <td>6666 Oak St.</td>\n",
       "        </tr>\n",
       "        <tr>\n",
       "            <td>11</td>\n",
       "            <td>Kevin</td>\n",
       "            <td>Nguyen</td>\n",
       "            <td>Male</td>\n",
       "            <td>Seattle</td>\n",
       "            <td>5.9</td>\n",
       "            <td>Pollen</td>\n",
       "            <td>Dr. Chen</td>\n",
       "            <td>7777 Cedar St.</td>\n",
       "        </tr>\n",
       "        <tr>\n",
       "            <td>12</td>\n",
       "            <td>Rachel</td>\n",
       "            <td>Kim</td>\n",
       "            <td>Female</td>\n",
       "            <td>Boston</td>\n",
       "            <td>5.2</td>\n",
       "            <td>Peanuts</td>\n",
       "            <td>Dr. Kim</td>\n",
       "            <td>8888 Pine St.</td>\n",
       "        </tr>\n",
       "        <tr>\n",
       "            <td>13</td>\n",
       "            <td>Timothy</td>\n",
       "            <td>Gomez</td>\n",
       "            <td>Male</td>\n",
       "            <td>San Diego</td>\n",
       "            <td>6</td>\n",
       "            <td>Dust</td>\n",
       "            <td>Dr. Lee</td>\n",
       "            <td>9999 Oak St.</td>\n",
       "        </tr>\n",
       "        <tr>\n",
       "            <td>14</td>\n",
       "            <td>Samantha</td>\n",
       "            <td>Chen</td>\n",
       "            <td>Female</td>\n",
       "            <td>Denver</td>\n",
       "            <td>5.4</td>\n",
       "            <td>None</td>\n",
       "            <td>Dr. Lee</td>\n",
       "            <td>1010 Spruce St.</td>\n",
       "        </tr>\n",
       "        <tr>\n",
       "            <td>15</td>\n",
       "            <td>Joshua</td>\n",
       "            <td>Wong</td>\n",
       "            <td>Male</td>\n",
       "            <td>Las Vegas</td>\n",
       "            <td>5.8</td>\n",
       "            <td>Seafood</td>\n",
       "            <td>Dr. Davis</td>\n",
       "            <td>1212 Maple Ave.</td>\n",
       "        </tr>\n",
       "        <tr>\n",
       "            <td>16</td>\n",
       "            <td>Emily</td>\n",
       "            <td>Wang</td>\n",
       "            <td>Female</td>\n",
       "            <td>Portland</td>\n",
       "            <td>5.5</td>\n",
       "            <td>Latex</td>\n",
       "            <td>Dr. Hernandez</td>\n",
       "            <td>1313 Elm St.</td>\n",
       "        </tr>\n",
       "        <tr>\n",
       "            <td>17</td>\n",
       "            <td>Daniel</td>\n",
       "            <td>Lee</td>\n",
       "            <td>Male</td>\n",
       "            <td>Austin</td>\n",
       "            <td>6.1</td>\n",
       "            <td>None</td>\n",
       "            <td>Dr. Kim</td>\n",
       "            <td>1414 Oak St.</td>\n",
       "        </tr>\n",
       "        <tr>\n",
       "            <td>18</td>\n",
       "            <td>Stephanie</td>\n",
       "            <td>Lin</td>\n",
       "            <td>Female</td>\n",
       "            <td>Charlotte</td>\n",
       "            <td>5.7</td>\n",
       "            <td>Eggs</td>\n",
       "            <td>Dr. Davis</td>\n",
       "            <td>1515 Walnut St.</td>\n",
       "        </tr>\n",
       "        <tr>\n",
       "            <td>19</td>\n",
       "            <td>Matthew</td>\n",
       "            <td>Choi</td>\n",
       "            <td>Male</td>\n",
       "            <td>Seattle</td>\n",
       "            <td>6.2</td>\n",
       "            <td>None</td>\n",
       "            <td>Dr. Hernandez</td>\n",
       "            <td>1616 Pine St.</td>\n",
       "        </tr>\n",
       "        <tr>\n",
       "            <td>20</td>\n",
       "            <td>Cynthia</td>\n",
       "            <td>Park</td>\n",
       "            <td>Female</td>\n",
       "            <td>Houston</td>\n",
       "            <td>5.6</td>\n",
       "            <td>Latex</td>\n",
       "            <td>Dr. Patel</td>\n",
       "            <td>1717 Cedar St.</td>\n",
       "        </tr>\n",
       "    </tbody>\n",
       "</table>"
      ],
      "text/plain": [
       "[(1, 'John', 'Doe', 'Male', 'New York', 6.1, 'Pollen', 'Dr. Smith', '123 Main St.'),\n",
       " (2, 'Jane', 'Doe', 'Female', 'Chicago', 5.5, 'Penicillin', 'Dr. Johnson', '456 Maple Ave.'),\n",
       " (3, 'Mike', 'Smith', 'Male', 'Los Angeles', 6.2, 'Dust', 'Dr. Lee', '789 Oak St.'),\n",
       " (4, 'Sarah', 'Lee', 'Female', 'San Francisco', 5.8, None, 'Dr. Davis', '1010 Elm St.'),\n",
       " (5, 'Robert', 'Jones', 'Male', 'Houston', 6, 'Seafood', 'Dr. Brown', '1111 Walnut St.'),\n",
       " (6, 'Mary', 'Wilson', 'Female', 'Philadelphia', 5.4, None, 'Dr. Taylor', '2222 Cedar St.'),\n",
       " (7, 'David', 'Clark', 'Male', 'Phoenix', 6.3, 'Peanuts', 'Dr. Hernandez', '3333 Birch St.'),\n",
       " (8, 'Lisa', 'Garcia', 'Female', 'Miami', 5.7, 'Latex', 'Dr. Patel', '4444 Pine St.'),\n",
       " (9, 'Chris', 'Robinson', 'Male', 'Dallas', 6.1, None, 'Dr. Williams', '5555 Ash St.'),\n",
       " (10, 'Amanda', 'Hall', 'Female', 'Atlanta', 5.6, 'Eggs', 'Dr. Garcia', '6666 Oak St.'),\n",
       " (11, 'Kevin', 'Nguyen', 'Male', 'Seattle', 5.9, 'Pollen', 'Dr. Chen', '7777 Cedar St.'),\n",
       " (12, 'Rachel', 'Kim', 'Female', 'Boston', 5.2, 'Peanuts', 'Dr. Kim', '8888 Pine St.'),\n",
       " (13, 'Timothy', 'Gomez', 'Male', 'San Diego', 6, 'Dust', 'Dr. Lee', '9999 Oak St.'),\n",
       " (14, 'Samantha', 'Chen', 'Female', 'Denver', 5.4, None, 'Dr. Lee', '1010 Spruce St.'),\n",
       " (15, 'Joshua', 'Wong', 'Male', 'Las Vegas', 5.8, 'Seafood', 'Dr. Davis', '1212 Maple Ave.'),\n",
       " (16, 'Emily', 'Wang', 'Female', 'Portland', 5.5, 'Latex', 'Dr. Hernandez', '1313 Elm St.'),\n",
       " (17, 'Daniel', 'Lee', 'Male', 'Austin', 6.1, None, 'Dr. Kim', '1414 Oak St.'),\n",
       " (18, 'Stephanie', 'Lin', 'Female', 'Charlotte', 5.7, 'Eggs', 'Dr. Davis', '1515 Walnut St.'),\n",
       " (19, 'Matthew', 'Choi', 'Male', 'Seattle', 6.2, None, 'Dr. Hernandez', '1616 Pine St.'),\n",
       " (20, 'Cynthia', 'Park', 'Female', 'Houston', 5.6, 'Latex', 'Dr. Patel', '1717 Cedar St.')]"
      ]
     },
     "execution_count": 30,
     "metadata": {},
     "output_type": "execute_result"
    }
   ],
   "source": [
    "%%sql\n",
    "SELECT * FROM patient;"
   ]
  },
  {
   "cell_type": "code",
   "execution_count": 31,
   "id": "22ff8f64",
   "metadata": {},
   "outputs": [
    {
     "name": "stdout",
     "output_type": "stream",
     "text": [
      " * sqlite:///database.db\n",
      "Done.\n"
     ]
    },
    {
     "data": {
      "text/html": [
       "<table>\n",
       "    <thead>\n",
       "        <tr>\n",
       "            <th>patient_id</th>\n",
       "            <th>first_name</th>\n",
       "            <th>last_name</th>\n",
       "            <th>gender</th>\n",
       "            <th>city</th>\n",
       "            <th>height</th>\n",
       "            <th>allergies</th>\n",
       "            <th>doctor_name</th>\n",
       "            <th>address</th>\n",
       "        </tr>\n",
       "    </thead>\n",
       "    <tbody>\n",
       "        <tr>\n",
       "            <td>1</td>\n",
       "            <td>John</td>\n",
       "            <td>Doe</td>\n",
       "            <td>Male</td>\n",
       "            <td>New York</td>\n",
       "            <td>6.1</td>\n",
       "            <td>Pollen</td>\n",
       "            <td>Dr. Smith</td>\n",
       "            <td>123 Main St.</td>\n",
       "        </tr>\n",
       "    </tbody>\n",
       "</table>"
      ],
      "text/plain": [
       "[(1, 'John', 'Doe', 'Male', 'New York', 6.1, 'Pollen', 'Dr. Smith', '123 Main St.')]"
      ]
     },
     "execution_count": 31,
     "metadata": {},
     "output_type": "execute_result"
    }
   ],
   "source": [
    "%%sql\n",
    "SELECT * FROM patient WHERE doctor_name = 'Dr. Smith'; #Retrieve the patient records with a specific doctor name"
   ]
  },
  {
   "cell_type": "code",
   "execution_count": 33,
   "id": "32fd1e71",
   "metadata": {},
   "outputs": [
    {
     "name": "stdout",
     "output_type": "stream",
     "text": [
      " * sqlite:///database.db\n",
      "Done.\n"
     ]
    },
    {
     "data": {
      "text/html": [
       "<table>\n",
       "    <thead>\n",
       "        <tr>\n",
       "            <th>patient_id</th>\n",
       "            <th>first_name</th>\n",
       "            <th>last_name</th>\n",
       "            <th>gender</th>\n",
       "            <th>city</th>\n",
       "            <th>height</th>\n",
       "            <th>allergies</th>\n",
       "            <th>doctor_name</th>\n",
       "            <th>address</th>\n",
       "        </tr>\n",
       "    </thead>\n",
       "    <tbody>\n",
       "        <tr>\n",
       "            <td>14</td>\n",
       "            <td>Samantha</td>\n",
       "            <td>Chen</td>\n",
       "            <td>Female</td>\n",
       "            <td>Denver</td>\n",
       "            <td>5.4</td>\n",
       "            <td>None</td>\n",
       "            <td>Dr. Lee</td>\n",
       "            <td>1010 Spruce St.</td>\n",
       "        </tr>\n",
       "        <tr>\n",
       "            <td>19</td>\n",
       "            <td>Matthew</td>\n",
       "            <td>Choi</td>\n",
       "            <td>Male</td>\n",
       "            <td>Seattle</td>\n",
       "            <td>6.2</td>\n",
       "            <td>None</td>\n",
       "            <td>Dr. Hernandez</td>\n",
       "            <td>1616 Pine St.</td>\n",
       "        </tr>\n",
       "        <tr>\n",
       "            <td>7</td>\n",
       "            <td>David</td>\n",
       "            <td>Clark</td>\n",
       "            <td>Male</td>\n",
       "            <td>Phoenix</td>\n",
       "            <td>6.3</td>\n",
       "            <td>Peanuts</td>\n",
       "            <td>Dr. Hernandez</td>\n",
       "            <td>3333 Birch St.</td>\n",
       "        </tr>\n",
       "        <tr>\n",
       "            <td>1</td>\n",
       "            <td>John</td>\n",
       "            <td>Doe</td>\n",
       "            <td>Male</td>\n",
       "            <td>New York</td>\n",
       "            <td>6.1</td>\n",
       "            <td>Pollen</td>\n",
       "            <td>Dr. Smith</td>\n",
       "            <td>123 Main St.</td>\n",
       "        </tr>\n",
       "        <tr>\n",
       "            <td>2</td>\n",
       "            <td>Jane</td>\n",
       "            <td>Doe</td>\n",
       "            <td>Female</td>\n",
       "            <td>Chicago</td>\n",
       "            <td>5.5</td>\n",
       "            <td>Penicillin</td>\n",
       "            <td>Dr. Johnson</td>\n",
       "            <td>456 Maple Ave.</td>\n",
       "        </tr>\n",
       "        <tr>\n",
       "            <td>8</td>\n",
       "            <td>Lisa</td>\n",
       "            <td>Garcia</td>\n",
       "            <td>Female</td>\n",
       "            <td>Miami</td>\n",
       "            <td>5.7</td>\n",
       "            <td>Latex</td>\n",
       "            <td>Dr. Patel</td>\n",
       "            <td>4444 Pine St.</td>\n",
       "        </tr>\n",
       "        <tr>\n",
       "            <td>13</td>\n",
       "            <td>Timothy</td>\n",
       "            <td>Gomez</td>\n",
       "            <td>Male</td>\n",
       "            <td>San Diego</td>\n",
       "            <td>6</td>\n",
       "            <td>Dust</td>\n",
       "            <td>Dr. Lee</td>\n",
       "            <td>9999 Oak St.</td>\n",
       "        </tr>\n",
       "        <tr>\n",
       "            <td>10</td>\n",
       "            <td>Amanda</td>\n",
       "            <td>Hall</td>\n",
       "            <td>Female</td>\n",
       "            <td>Atlanta</td>\n",
       "            <td>5.6</td>\n",
       "            <td>Eggs</td>\n",
       "            <td>Dr. Garcia</td>\n",
       "            <td>6666 Oak St.</td>\n",
       "        </tr>\n",
       "        <tr>\n",
       "            <td>5</td>\n",
       "            <td>Robert</td>\n",
       "            <td>Jones</td>\n",
       "            <td>Male</td>\n",
       "            <td>Houston</td>\n",
       "            <td>6</td>\n",
       "            <td>Seafood</td>\n",
       "            <td>Dr. Brown</td>\n",
       "            <td>1111 Walnut St.</td>\n",
       "        </tr>\n",
       "        <tr>\n",
       "            <td>12</td>\n",
       "            <td>Rachel</td>\n",
       "            <td>Kim</td>\n",
       "            <td>Female</td>\n",
       "            <td>Boston</td>\n",
       "            <td>5.2</td>\n",
       "            <td>Peanuts</td>\n",
       "            <td>Dr. Kim</td>\n",
       "            <td>8888 Pine St.</td>\n",
       "        </tr>\n",
       "        <tr>\n",
       "            <td>4</td>\n",
       "            <td>Sarah</td>\n",
       "            <td>Lee</td>\n",
       "            <td>Female</td>\n",
       "            <td>San Francisco</td>\n",
       "            <td>5.8</td>\n",
       "            <td>None</td>\n",
       "            <td>Dr. Davis</td>\n",
       "            <td>1010 Elm St.</td>\n",
       "        </tr>\n",
       "        <tr>\n",
       "            <td>17</td>\n",
       "            <td>Daniel</td>\n",
       "            <td>Lee</td>\n",
       "            <td>Male</td>\n",
       "            <td>Austin</td>\n",
       "            <td>6.1</td>\n",
       "            <td>None</td>\n",
       "            <td>Dr. Kim</td>\n",
       "            <td>1414 Oak St.</td>\n",
       "        </tr>\n",
       "        <tr>\n",
       "            <td>18</td>\n",
       "            <td>Stephanie</td>\n",
       "            <td>Lin</td>\n",
       "            <td>Female</td>\n",
       "            <td>Charlotte</td>\n",
       "            <td>5.7</td>\n",
       "            <td>Eggs</td>\n",
       "            <td>Dr. Davis</td>\n",
       "            <td>1515 Walnut St.</td>\n",
       "        </tr>\n",
       "        <tr>\n",
       "            <td>11</td>\n",
       "            <td>Kevin</td>\n",
       "            <td>Nguyen</td>\n",
       "            <td>Male</td>\n",
       "            <td>Seattle</td>\n",
       "            <td>5.9</td>\n",
       "            <td>Pollen</td>\n",
       "            <td>Dr. Chen</td>\n",
       "            <td>7777 Cedar St.</td>\n",
       "        </tr>\n",
       "        <tr>\n",
       "            <td>20</td>\n",
       "            <td>Cynthia</td>\n",
       "            <td>Park</td>\n",
       "            <td>Female</td>\n",
       "            <td>Houston</td>\n",
       "            <td>5.6</td>\n",
       "            <td>Latex</td>\n",
       "            <td>Dr. Patel</td>\n",
       "            <td>1717 Cedar St.</td>\n",
       "        </tr>\n",
       "        <tr>\n",
       "            <td>9</td>\n",
       "            <td>Chris</td>\n",
       "            <td>Robinson</td>\n",
       "            <td>Male</td>\n",
       "            <td>Dallas</td>\n",
       "            <td>6.1</td>\n",
       "            <td>None</td>\n",
       "            <td>Dr. Williams</td>\n",
       "            <td>5555 Ash St.</td>\n",
       "        </tr>\n",
       "        <tr>\n",
       "            <td>3</td>\n",
       "            <td>Mike</td>\n",
       "            <td>Smith</td>\n",
       "            <td>Male</td>\n",
       "            <td>Los Angeles</td>\n",
       "            <td>6.2</td>\n",
       "            <td>Dust</td>\n",
       "            <td>Dr. Lee</td>\n",
       "            <td>789 Oak St.</td>\n",
       "        </tr>\n",
       "        <tr>\n",
       "            <td>16</td>\n",
       "            <td>Emily</td>\n",
       "            <td>Wang</td>\n",
       "            <td>Female</td>\n",
       "            <td>Portland</td>\n",
       "            <td>5.5</td>\n",
       "            <td>Latex</td>\n",
       "            <td>Dr. Hernandez</td>\n",
       "            <td>1313 Elm St.</td>\n",
       "        </tr>\n",
       "        <tr>\n",
       "            <td>6</td>\n",
       "            <td>Mary</td>\n",
       "            <td>Wilson</td>\n",
       "            <td>Female</td>\n",
       "            <td>Philadelphia</td>\n",
       "            <td>5.4</td>\n",
       "            <td>None</td>\n",
       "            <td>Dr. Taylor</td>\n",
       "            <td>2222 Cedar St.</td>\n",
       "        </tr>\n",
       "        <tr>\n",
       "            <td>15</td>\n",
       "            <td>Joshua</td>\n",
       "            <td>Wong</td>\n",
       "            <td>Male</td>\n",
       "            <td>Las Vegas</td>\n",
       "            <td>5.8</td>\n",
       "            <td>Seafood</td>\n",
       "            <td>Dr. Davis</td>\n",
       "            <td>1212 Maple Ave.</td>\n",
       "        </tr>\n",
       "    </tbody>\n",
       "</table>"
      ],
      "text/plain": [
       "[(14, 'Samantha', 'Chen', 'Female', 'Denver', 5.4, None, 'Dr. Lee', '1010 Spruce St.'),\n",
       " (19, 'Matthew', 'Choi', 'Male', 'Seattle', 6.2, None, 'Dr. Hernandez', '1616 Pine St.'),\n",
       " (7, 'David', 'Clark', 'Male', 'Phoenix', 6.3, 'Peanuts', 'Dr. Hernandez', '3333 Birch St.'),\n",
       " (1, 'John', 'Doe', 'Male', 'New York', 6.1, 'Pollen', 'Dr. Smith', '123 Main St.'),\n",
       " (2, 'Jane', 'Doe', 'Female', 'Chicago', 5.5, 'Penicillin', 'Dr. Johnson', '456 Maple Ave.'),\n",
       " (8, 'Lisa', 'Garcia', 'Female', 'Miami', 5.7, 'Latex', 'Dr. Patel', '4444 Pine St.'),\n",
       " (13, 'Timothy', 'Gomez', 'Male', 'San Diego', 6, 'Dust', 'Dr. Lee', '9999 Oak St.'),\n",
       " (10, 'Amanda', 'Hall', 'Female', 'Atlanta', 5.6, 'Eggs', 'Dr. Garcia', '6666 Oak St.'),\n",
       " (5, 'Robert', 'Jones', 'Male', 'Houston', 6, 'Seafood', 'Dr. Brown', '1111 Walnut St.'),\n",
       " (12, 'Rachel', 'Kim', 'Female', 'Boston', 5.2, 'Peanuts', 'Dr. Kim', '8888 Pine St.'),\n",
       " (4, 'Sarah', 'Lee', 'Female', 'San Francisco', 5.8, None, 'Dr. Davis', '1010 Elm St.'),\n",
       " (17, 'Daniel', 'Lee', 'Male', 'Austin', 6.1, None, 'Dr. Kim', '1414 Oak St.'),\n",
       " (18, 'Stephanie', 'Lin', 'Female', 'Charlotte', 5.7, 'Eggs', 'Dr. Davis', '1515 Walnut St.'),\n",
       " (11, 'Kevin', 'Nguyen', 'Male', 'Seattle', 5.9, 'Pollen', 'Dr. Chen', '7777 Cedar St.'),\n",
       " (20, 'Cynthia', 'Park', 'Female', 'Houston', 5.6, 'Latex', 'Dr. Patel', '1717 Cedar St.'),\n",
       " (9, 'Chris', 'Robinson', 'Male', 'Dallas', 6.1, None, 'Dr. Williams', '5555 Ash St.'),\n",
       " (3, 'Mike', 'Smith', 'Male', 'Los Angeles', 6.2, 'Dust', 'Dr. Lee', '789 Oak St.'),\n",
       " (16, 'Emily', 'Wang', 'Female', 'Portland', 5.5, 'Latex', 'Dr. Hernandez', '1313 Elm St.'),\n",
       " (6, 'Mary', 'Wilson', 'Female', 'Philadelphia', 5.4, None, 'Dr. Taylor', '2222 Cedar St.'),\n",
       " (15, 'Joshua', 'Wong', 'Male', 'Las Vegas', 5.8, 'Seafood', 'Dr. Davis', '1212 Maple Ave.')]"
      ]
     },
     "execution_count": 33,
     "metadata": {},
     "output_type": "execute_result"
    }
   ],
   "source": [
    "%%sql\n",
    "SELECT * FROM patient ORDER BY last_name ASC; #Retrieve the patient records sorted by last name in ascending order"
   ]
  },
  {
   "cell_type": "code",
   "execution_count": 34,
   "id": "baa8d8ba",
   "metadata": {},
   "outputs": [
    {
     "name": "stdout",
     "output_type": "stream",
     "text": [
      " * sqlite:///database.db\n",
      "Done.\n"
     ]
    },
    {
     "data": {
      "text/html": [
       "<table>\n",
       "    <thead>\n",
       "        <tr>\n",
       "            <th>patient_id</th>\n",
       "            <th>first_name</th>\n",
       "            <th>last_name</th>\n",
       "            <th>gender</th>\n",
       "            <th>city</th>\n",
       "            <th>height</th>\n",
       "            <th>allergies</th>\n",
       "            <th>doctor_name</th>\n",
       "            <th>address</th>\n",
       "        </tr>\n",
       "    </thead>\n",
       "    <tbody>\n",
       "        <tr>\n",
       "            <td>2</td>\n",
       "            <td>Jane</td>\n",
       "            <td>Doe</td>\n",
       "            <td>Female</td>\n",
       "            <td>Chicago</td>\n",
       "            <td>5.5</td>\n",
       "            <td>Penicillin</td>\n",
       "            <td>Dr. Johnson</td>\n",
       "            <td>456 Maple Ave.</td>\n",
       "        </tr>\n",
       "        <tr>\n",
       "            <td>4</td>\n",
       "            <td>Sarah</td>\n",
       "            <td>Lee</td>\n",
       "            <td>Female</td>\n",
       "            <td>San Francisco</td>\n",
       "            <td>5.8</td>\n",
       "            <td>None</td>\n",
       "            <td>Dr. Davis</td>\n",
       "            <td>1010 Elm St.</td>\n",
       "        </tr>\n",
       "        <tr>\n",
       "            <td>5</td>\n",
       "            <td>Robert</td>\n",
       "            <td>Jones</td>\n",
       "            <td>Male</td>\n",
       "            <td>Houston</td>\n",
       "            <td>6</td>\n",
       "            <td>Seafood</td>\n",
       "            <td>Dr. Brown</td>\n",
       "            <td>1111 Walnut St.</td>\n",
       "        </tr>\n",
       "        <tr>\n",
       "            <td>8</td>\n",
       "            <td>Lisa</td>\n",
       "            <td>Garcia</td>\n",
       "            <td>Female</td>\n",
       "            <td>Miami</td>\n",
       "            <td>5.7</td>\n",
       "            <td>Latex</td>\n",
       "            <td>Dr. Patel</td>\n",
       "            <td>4444 Pine St.</td>\n",
       "        </tr>\n",
       "        <tr>\n",
       "            <td>10</td>\n",
       "            <td>Amanda</td>\n",
       "            <td>Hall</td>\n",
       "            <td>Female</td>\n",
       "            <td>Atlanta</td>\n",
       "            <td>5.6</td>\n",
       "            <td>Eggs</td>\n",
       "            <td>Dr. Garcia</td>\n",
       "            <td>6666 Oak St.</td>\n",
       "        </tr>\n",
       "        <tr>\n",
       "            <td>11</td>\n",
       "            <td>Kevin</td>\n",
       "            <td>Nguyen</td>\n",
       "            <td>Male</td>\n",
       "            <td>Seattle</td>\n",
       "            <td>5.9</td>\n",
       "            <td>Pollen</td>\n",
       "            <td>Dr. Chen</td>\n",
       "            <td>7777 Cedar St.</td>\n",
       "        </tr>\n",
       "        <tr>\n",
       "            <td>13</td>\n",
       "            <td>Timothy</td>\n",
       "            <td>Gomez</td>\n",
       "            <td>Male</td>\n",
       "            <td>San Diego</td>\n",
       "            <td>6</td>\n",
       "            <td>Dust</td>\n",
       "            <td>Dr. Lee</td>\n",
       "            <td>9999 Oak St.</td>\n",
       "        </tr>\n",
       "        <tr>\n",
       "            <td>15</td>\n",
       "            <td>Joshua</td>\n",
       "            <td>Wong</td>\n",
       "            <td>Male</td>\n",
       "            <td>Las Vegas</td>\n",
       "            <td>5.8</td>\n",
       "            <td>Seafood</td>\n",
       "            <td>Dr. Davis</td>\n",
       "            <td>1212 Maple Ave.</td>\n",
       "        </tr>\n",
       "        <tr>\n",
       "            <td>16</td>\n",
       "            <td>Emily</td>\n",
       "            <td>Wang</td>\n",
       "            <td>Female</td>\n",
       "            <td>Portland</td>\n",
       "            <td>5.5</td>\n",
       "            <td>Latex</td>\n",
       "            <td>Dr. Hernandez</td>\n",
       "            <td>1313 Elm St.</td>\n",
       "        </tr>\n",
       "        <tr>\n",
       "            <td>18</td>\n",
       "            <td>Stephanie</td>\n",
       "            <td>Lin</td>\n",
       "            <td>Female</td>\n",
       "            <td>Charlotte</td>\n",
       "            <td>5.7</td>\n",
       "            <td>Eggs</td>\n",
       "            <td>Dr. Davis</td>\n",
       "            <td>1515 Walnut St.</td>\n",
       "        </tr>\n",
       "        <tr>\n",
       "            <td>20</td>\n",
       "            <td>Cynthia</td>\n",
       "            <td>Park</td>\n",
       "            <td>Female</td>\n",
       "            <td>Houston</td>\n",
       "            <td>5.6</td>\n",
       "            <td>Latex</td>\n",
       "            <td>Dr. Patel</td>\n",
       "            <td>1717 Cedar St.</td>\n",
       "        </tr>\n",
       "    </tbody>\n",
       "</table>"
      ],
      "text/plain": [
       "[(2, 'Jane', 'Doe', 'Female', 'Chicago', 5.5, 'Penicillin', 'Dr. Johnson', '456 Maple Ave.'),\n",
       " (4, 'Sarah', 'Lee', 'Female', 'San Francisco', 5.8, None, 'Dr. Davis', '1010 Elm St.'),\n",
       " (5, 'Robert', 'Jones', 'Male', 'Houston', 6, 'Seafood', 'Dr. Brown', '1111 Walnut St.'),\n",
       " (8, 'Lisa', 'Garcia', 'Female', 'Miami', 5.7, 'Latex', 'Dr. Patel', '4444 Pine St.'),\n",
       " (10, 'Amanda', 'Hall', 'Female', 'Atlanta', 5.6, 'Eggs', 'Dr. Garcia', '6666 Oak St.'),\n",
       " (11, 'Kevin', 'Nguyen', 'Male', 'Seattle', 5.9, 'Pollen', 'Dr. Chen', '7777 Cedar St.'),\n",
       " (13, 'Timothy', 'Gomez', 'Male', 'San Diego', 6, 'Dust', 'Dr. Lee', '9999 Oak St.'),\n",
       " (15, 'Joshua', 'Wong', 'Male', 'Las Vegas', 5.8, 'Seafood', 'Dr. Davis', '1212 Maple Ave.'),\n",
       " (16, 'Emily', 'Wang', 'Female', 'Portland', 5.5, 'Latex', 'Dr. Hernandez', '1313 Elm St.'),\n",
       " (18, 'Stephanie', 'Lin', 'Female', 'Charlotte', 5.7, 'Eggs', 'Dr. Davis', '1515 Walnut St.'),\n",
       " (20, 'Cynthia', 'Park', 'Female', 'Houston', 5.6, 'Latex', 'Dr. Patel', '1717 Cedar St.')]"
      ]
     },
     "execution_count": 34,
     "metadata": {},
     "output_type": "execute_result"
    }
   ],
   "source": [
    "%%sql\n",
    "SELECT * FROM patient WHERE height BETWEEN 5.5 AND 6.0;"
   ]
  },
  {
   "cell_type": "code",
   "execution_count": 35,
   "id": "d88341d9",
   "metadata": {},
   "outputs": [
    {
     "name": "stdout",
     "output_type": "stream",
     "text": [
      " * sqlite:///database.db\n",
      "Done.\n"
     ]
    },
    {
     "data": {
      "text/html": [
       "<table>\n",
       "    <thead>\n",
       "        <tr>\n",
       "            <th>patient_id</th>\n",
       "            <th>first_name</th>\n",
       "            <th>last_name</th>\n",
       "            <th>gender</th>\n",
       "            <th>city</th>\n",
       "            <th>height</th>\n",
       "            <th>allergies</th>\n",
       "            <th>doctor_name</th>\n",
       "            <th>address</th>\n",
       "        </tr>\n",
       "    </thead>\n",
       "    <tbody>\n",
       "        <tr>\n",
       "            <td>2</td>\n",
       "            <td>Jane</td>\n",
       "            <td>Doe</td>\n",
       "            <td>Female</td>\n",
       "            <td>Chicago</td>\n",
       "            <td>5.5</td>\n",
       "            <td>Penicillin</td>\n",
       "            <td>Dr. Johnson</td>\n",
       "            <td>456 Maple Ave.</td>\n",
       "        </tr>\n",
       "    </tbody>\n",
       "</table>"
      ],
      "text/plain": [
       "[(2, 'Jane', 'Doe', 'Female', 'Chicago', 5.5, 'Penicillin', 'Dr. Johnson', '456 Maple Ave.')]"
      ]
     },
     "execution_count": 35,
     "metadata": {},
     "output_type": "execute_result"
    }
   ],
   "source": [
    "%%sql\n",
    "SELECT * FROM patient WHERE gender = 'Female' AND city = 'Chicago';"
   ]
  },
  {
   "cell_type": "code",
   "execution_count": 36,
   "id": "565854ef",
   "metadata": {},
   "outputs": [
    {
     "name": "stdout",
     "output_type": "stream",
     "text": [
      " * sqlite:///database.db\n",
      "Done.\n"
     ]
    },
    {
     "data": {
      "text/html": [
       "<table>\n",
       "    <thead>\n",
       "        <tr>\n",
       "            <th>patient_id</th>\n",
       "            <th>first_name</th>\n",
       "            <th>last_name</th>\n",
       "            <th>gender</th>\n",
       "            <th>city</th>\n",
       "            <th>height</th>\n",
       "            <th>allergies</th>\n",
       "            <th>doctor_name</th>\n",
       "            <th>address</th>\n",
       "        </tr>\n",
       "    </thead>\n",
       "    <tbody>\n",
       "        <tr>\n",
       "            <td>1</td>\n",
       "            <td>John</td>\n",
       "            <td>Doe</td>\n",
       "            <td>Male</td>\n",
       "            <td>New York</td>\n",
       "            <td>6.1</td>\n",
       "            <td>Pollen</td>\n",
       "            <td>Dr. Smith</td>\n",
       "            <td>123 Main St.</td>\n",
       "        </tr>\n",
       "        <tr>\n",
       "            <td>11</td>\n",
       "            <td>Kevin</td>\n",
       "            <td>Nguyen</td>\n",
       "            <td>Male</td>\n",
       "            <td>Seattle</td>\n",
       "            <td>5.9</td>\n",
       "            <td>Pollen</td>\n",
       "            <td>Dr. Chen</td>\n",
       "            <td>7777 Cedar St.</td>\n",
       "        </tr>\n",
       "    </tbody>\n",
       "</table>"
      ],
      "text/plain": [
       "[(1, 'John', 'Doe', 'Male', 'New York', 6.1, 'Pollen', 'Dr. Smith', '123 Main St.'),\n",
       " (11, 'Kevin', 'Nguyen', 'Male', 'Seattle', 5.9, 'Pollen', 'Dr. Chen', '7777 Cedar St.')]"
      ]
     },
     "execution_count": 36,
     "metadata": {},
     "output_type": "execute_result"
    }
   ],
   "source": [
    "%%sql\n",
    "SELECT * FROM patient WHERE allergies = 'Pollen';"
   ]
  },
  {
   "cell_type": "code",
   "execution_count": 40,
   "id": "13b32822",
   "metadata": {},
   "outputs": [
    {
     "ename": "OperationalError",
     "evalue": "[Version 17.20.0.19] [Session 0] [Teradata SQL Driver] Hostname lookup failed for host123\n at gosqldriver/teradatasql.formatError ErrorUtil.go:89\n at gosqldriver/teradatasql.(*teradataConnection).makeDriverError ErrorUtil.go:180\n at gosqldriver/teradatasql.(*nameLookup).getAddresses CopDiscovery.go:95\n at gosqldriver/teradatasql.discoverCops CopDiscovery.go:177\n at gosqldriver/teradatasql.newTeradataConnection TeradataConnection.go:156\n at gosqldriver/teradatasql.(*teradataDriver).Open TeradataDriver.go:32\n at database/sql.dsnConnector.Connect sql.go:759\n at database/sql.(*DB).conn sql.go:1393\n at database/sql.(*DB).Conn sql.go:1926\n at main.goCreateConnection goside.go:297\n at _cgoexp_361f854e4d93_goCreateConnection _cgo_gotypes.go:263\n at runtime.cgocallbackg1 cgocall.go:316\n at runtime.cgocallbackg cgocall.go:235\n at runtime.cgocallback asm_amd64.s:994\n at runtime.goexit asm_amd64.s:1594\nCaused by lookup host123: no such host",
     "output_type": "error",
     "traceback": [
      "\u001b[1;31m---------------------------------------------------------------------------\u001b[0m",
      "\u001b[1;31mOperationalError\u001b[0m                          Traceback (most recent call last)",
      "Input \u001b[1;32mIn [40]\u001b[0m, in \u001b[0;36m<cell line: 10>\u001b[1;34m()\u001b[0m\n\u001b[0;32m      7\u001b[0m password \u001b[38;5;241m=\u001b[39m \u001b[38;5;124m'\u001b[39m\u001b[38;5;124msunil@123\u001b[39m\u001b[38;5;124m'\u001b[39m\n\u001b[0;32m      9\u001b[0m \u001b[38;5;66;03m# Establish a connection to the database\u001b[39;00m\n\u001b[1;32m---> 10\u001b[0m \u001b[38;5;28;01mwith\u001b[39;00m \u001b[43mteradatasql\u001b[49m\u001b[38;5;241;43m.\u001b[39;49m\u001b[43mconnect\u001b[49m\u001b[43m(\u001b[49m\u001b[43mhost\u001b[49m\u001b[38;5;241;43m=\u001b[39;49m\u001b[38;5;124;43m'\u001b[39;49m\u001b[38;5;124;43mhost123\u001b[39;49m\u001b[38;5;124;43m'\u001b[39;49m\u001b[43m,\u001b[49m\u001b[43m \u001b[49m\u001b[43muser\u001b[49m\u001b[38;5;241;43m=\u001b[39;49m\u001b[38;5;124;43m'\u001b[39;49m\u001b[38;5;124;43msunil\u001b[39;49m\u001b[38;5;124;43m'\u001b[39;49m\u001b[43m,\u001b[49m\u001b[43m \u001b[49m\u001b[43mpassword\u001b[49m\u001b[38;5;241;43m=\u001b[39;49m\u001b[38;5;124;43m'\u001b[39;49m\u001b[38;5;124;43msunil@123\u001b[39;49m\u001b[38;5;124;43m'\u001b[39;49m\u001b[43m,\u001b[49m\u001b[43m \u001b[49m\u001b[43mlogmech\u001b[49m\u001b[38;5;241;43m=\u001b[39;49m\u001b[38;5;124;43m'\u001b[39;49m\u001b[38;5;124;43mLDAP\u001b[39;49m\u001b[38;5;124;43m'\u001b[39;49m\u001b[43m)\u001b[49m \u001b[38;5;28;01mas\u001b[39;00m conn:\n\u001b[0;32m     11\u001b[0m \n\u001b[0;32m     12\u001b[0m     \u001b[38;5;66;03m# Create a cursor object to execute SQL statements\u001b[39;00m\n\u001b[0;32m     13\u001b[0m     cur \u001b[38;5;241m=\u001b[39m conn\u001b[38;5;241m.\u001b[39mcursor()\n\u001b[0;32m     15\u001b[0m     \u001b[38;5;66;03m# Define the SQL query to retrieve all the patient records\u001b[39;00m\n",
      "File \u001b[1;32m~\\anaconda3\\lib\\site-packages\\teradatasql\\__init__.py:188\u001b[0m, in \u001b[0;36mTeradataConnection.__init__\u001b[1;34m(self, sConnectParams, **kwargs)\u001b[0m\n\u001b[0;32m    186\u001b[0m         sErr \u001b[38;5;241m=\u001b[39m ctypes\u001b[38;5;241m.\u001b[39mstring_at(pcError)\u001b[38;5;241m.\u001b[39mdecode(\u001b[38;5;124m'\u001b[39m\u001b[38;5;124mutf-8\u001b[39m\u001b[38;5;124m'\u001b[39m)\n\u001b[0;32m    187\u001b[0m         goside\u001b[38;5;241m.\u001b[39mgoFreePointer (\u001b[38;5;28mself\u001b[39m\u001b[38;5;241m.\u001b[39muLog, pcError)\n\u001b[1;32m--> 188\u001b[0m         \u001b[38;5;28;01mraise\u001b[39;00m OperationalError(sErr)\n\u001b[0;32m    190\u001b[0m     \u001b[38;5;28mself\u001b[39m\u001b[38;5;241m.\u001b[39muConnHandle \u001b[38;5;241m=\u001b[39m uConnHandle\u001b[38;5;241m.\u001b[39mvalue\n\u001b[0;32m    192\u001b[0m \u001b[38;5;28;01mfinally\u001b[39;00m:\n",
      "\u001b[1;31mOperationalError\u001b[0m: [Version 17.20.0.19] [Session 0] [Teradata SQL Driver] Hostname lookup failed for host123\n at gosqldriver/teradatasql.formatError ErrorUtil.go:89\n at gosqldriver/teradatasql.(*teradataConnection).makeDriverError ErrorUtil.go:180\n at gosqldriver/teradatasql.(*nameLookup).getAddresses CopDiscovery.go:95\n at gosqldriver/teradatasql.discoverCops CopDiscovery.go:177\n at gosqldriver/teradatasql.newTeradataConnection TeradataConnection.go:156\n at gosqldriver/teradatasql.(*teradataDriver).Open TeradataDriver.go:32\n at database/sql.dsnConnector.Connect sql.go:759\n at database/sql.(*DB).conn sql.go:1393\n at database/sql.(*DB).Conn sql.go:1926\n at main.goCreateConnection goside.go:297\n at _cgoexp_361f854e4d93_goCreateConnection _cgo_gotypes.go:263\n at runtime.cgocallbackg1 cgocall.go:316\n at runtime.cgocallbackg cgocall.go:235\n at runtime.cgocallback asm_amd64.s:994\n at runtime.goexit asm_amd64.s:1594\nCaused by lookup host123: no such host"
     ]
    }
   ],
   "source": [
    "import teradatasql\n",
    "import pandas as pd\n",
    "\n",
    "# Define the connection parameters\n",
    "host = 'host123'\n",
    "user = 'sunil'\n",
    "password = 'sunil@123'\n",
    "\n",
    "# Establish a connection to the database\n",
    "with teradatasql.connect(host='host123', user='sunil', password='sunil@123', logmech='LDAP') as conn:\n",
    "\n",
    "    # Create a cursor object to execute SQL statements\n",
    "    cur = conn.cursor()\n",
    "\n",
    "    # Define the SQL query to retrieve all the patient records\n",
    "    query = \"SELECT * FROM patient\"\n",
    "\n",
    "    # Execute the SQL query\n",
    "    cur.execute(query)\n",
    "\n",
    "    # Iterate over the results using a for loop\n",
    "    for row in cur:\n",
    "        # Process each row as needed\n",
    "        print(row)"
   ]
  },
  {
   "cell_type": "code",
   "execution_count": 38,
   "id": "483cd2c7",
   "metadata": {},
   "outputs": [
    {
     "name": "stdout",
     "output_type": "stream",
     "text": [
      "Collecting teradatasql\n",
      "  Downloading teradatasql-17.20.0.19-py3-none-any.whl (29.1 MB)\n",
      "Collecting pycryptodome\n",
      "  Downloading pycryptodome-3.17-cp35-abi3-win_amd64.whl (1.7 MB)\n",
      "Installing collected packages: pycryptodome, teradatasql\n",
      "Successfully installed pycryptodome-3.17 teradatasql-17.20.0.19\n"
     ]
    }
   ],
   "source": [
    "!pip install teradatasql"
   ]
  }
 ],
 "metadata": {
  "kernelspec": {
   "display_name": "Python 3 (ipykernel)",
   "language": "python",
   "name": "python3"
  },
  "language_info": {
   "codemirror_mode": {
    "name": "ipython",
    "version": 3
   },
   "file_extension": ".py",
   "mimetype": "text/x-python",
   "name": "python",
   "nbconvert_exporter": "python",
   "pygments_lexer": "ipython3",
   "version": "3.9.12"
  }
 },
 "nbformat": 4,
 "nbformat_minor": 5
}
